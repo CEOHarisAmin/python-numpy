{
 "cells": [
  {
   "cell_type": "code",
   "execution_count": 8,
   "metadata": {},
   "outputs": [
    {
     "name": "stdout",
     "output_type": "stream",
     "text": [
      "Name: Haris Amin\n",
      "F/Name: Muhammad Amin\n",
      "University: QUEST\n",
      "Phone no: +92 3321127718\n",
      "Expert in Artificial Intelligence\n",
      "Experience: 1 Year\n"
     ]
    }
   ],
   "source": [
    "with open('untitled.txt') as practicefile:\n",
    "    contents=practicefile.read()\n",
    "    print(contents.rstrip())"
   ]
  },
  {
   "cell_type": "code",
   "execution_count": 9,
   "metadata": {},
   "outputs": [
    {
     "name": "stdout",
     "output_type": "stream",
     "text": [
      "Name: Haris Amin\n",
      "F/Name: Muhammad Amin\n",
      "University: QUEST\n",
      "Phone no: +92 3321127718\n",
      "Expert in Artificial Intelligence\n",
      "Experience: 1 Year\n"
     ]
    }
   ],
   "source": [
    "with open('untitled.txt') as practicefile:\n",
    "    contents=practicefile.read()\n",
    "    print(contents.rstrip())"
   ]
  },
  {
   "cell_type": "code",
   "execution_count": 10,
   "metadata": {},
   "outputs": [
    {
     "name": "stdout",
     "output_type": "stream",
     "text": [
      "3.141592653589793\n"
     ]
    }
   ],
   "source": [
    "import math as mymath\n",
    "print(mymath.pi)"
   ]
  },
  {
   "cell_type": "code",
   "execution_count": 5,
   "metadata": {},
   "outputs": [
    {
     "name": "stdout",
     "output_type": "stream",
     "text": [
      "3.141592653589793\n"
     ]
    }
   ],
   "source": [
    "from math import *\n",
    "print(pi)"
   ]
  },
  {
   "cell_type": "code",
   "execution_count": 16,
   "metadata": {},
   "outputs": [
    {
     "name": "stdout",
     "output_type": "stream",
     "text": [
      "3.141592653589793\n",
      "5\n",
      "6\n"
     ]
    }
   ],
   "source": [
    "from math import *\n",
    "print(pi)\n",
    "print(floor(5.7))\n",
    "print(ceil(5.7))"
   ]
  },
  {
   "cell_type": "code",
   "execution_count": 1,
   "metadata": {},
   "outputs": [
    {
     "ename": "ModuleNotFoundError",
     "evalue": "No module named 'import_ipynb'",
     "output_type": "error",
     "traceback": [
      "\u001b[1;31m---------------------------------------------------------------------------\u001b[0m",
      "\u001b[1;31mModuleNotFoundError\u001b[0m                       Traceback (most recent call last)",
      "\u001b[1;32m<ipython-input-1-257d9127f47b>\u001b[0m in \u001b[0;36m<module>\u001b[1;34m\u001b[0m\n\u001b[1;32m----> 1\u001b[1;33m \u001b[1;32mimport\u001b[0m \u001b[0mimport_ipynb\u001b[0m\u001b[1;33m\u001b[0m\u001b[1;33m\u001b[0m\u001b[0m\n\u001b[0m\u001b[0;32m      2\u001b[0m \u001b[1;32mimport\u001b[0m \u001b[0muntitled2\u001b[0m\u001b[1;33m\u001b[0m\u001b[1;33m\u001b[0m\u001b[0m\n\u001b[0;32m      3\u001b[0m \u001b[0muntitled\u001b[0m\u001b[1;33m.\u001b[0m\u001b[0madd\u001b[0m\u001b[1;33m(\u001b[0m\u001b[1;36m5\u001b[0m\u001b[1;33m,\u001b[0m\u001b[1;36m3\u001b[0m\u001b[1;33m)\u001b[0m\u001b[1;33m\u001b[0m\u001b[1;33m\u001b[0m\u001b[0m\n",
      "\u001b[1;31mModuleNotFoundError\u001b[0m: No module named 'import_ipynb'"
     ]
    }
   ],
   "source": [
    "import import_ipynb\n",
    "import untitled2\n",
    "untitled.add(5,3)"
   ]
  },
  {
   "cell_type": "code",
   "execution_count": 5,
   "metadata": {},
   "outputs": [
    {
     "name": "stdout",
     "output_type": "stream",
     "text": [
      "[[-0.36222728  0.37676009 -0.32646008  1.07795406 -0.1437121 ]\n",
      " [-1.67097606 -0.21752607 -0.62318193 -1.3860198  -1.47585859]\n",
      " [-0.49994113 -0.20248664  0.03416671 -1.62399579  1.27692791]] \n",
      "\n",
      "[[-0.72445456  0.75352019 -0.65292015  2.15590812 -0.2874242 ]\n",
      " [-3.34195213 -0.43505215 -1.24636387 -2.77203959 -2.95171717]\n",
      " [-0.99988227 -0.40497328  0.06833342 -3.24799158  2.55385583]] \n",
      "\n",
      "[[ -3.62227278   3.76760094  -3.26460076  10.77954059  -1.43712099]\n",
      " [-16.70976064  -2.17526073  -6.23181934 -13.86019796 -14.75858587]\n",
      " [ -4.99941133  -2.02486639   0.34166708 -16.23995788  12.76927913]] \n",
      "\n",
      "(3, 5) \n",
      "\n",
      "float64 \n",
      "\n",
      "2 \n",
      "\n"
     ]
    }
   ],
   "source": [
    "import numpy as np\n",
    "\n",
    "data = np.random.randn(3,5)\n",
    "print(data,\"\\n\")\n",
    "print(data+data , '\\n')\n",
    "print(data * 10 , '\\n')\n",
    "print(data.shape, '\\n')\n",
    "print(data.dtype , '\\n')\n",
    "print(data.ndim , '\\n')"
   ]
  },
  {
   "cell_type": "code",
   "execution_count": 2,
   "metadata": {},
   "outputs": [
    {
     "name": "stdout",
     "output_type": "stream",
     "text": [
      "[[-0.6671011  -0.13916421  1.01906016 -1.66770964]\n",
      " [-0.01606859 -1.35541875  0.08935923 -1.28200242]]\n",
      "[[[ 0.54961973 -0.32492421 -0.51355707]\n",
      "  [-1.62085412  1.61756341 -1.23789092]]\n",
      "\n",
      " [[ 0.63409298 -0.42774948 -0.26270636]\n",
      "  [-1.60315594 -0.94505004  0.43395117]]\n",
      "\n",
      " [[-0.97818415  1.45924958  1.05861718]\n",
      "  [-2.85764248 -1.13526745 -1.80596583]]]\n",
      "2\n",
      "[0. 0. 0. 0. 0. 0. 0. 0. 0. 0.]\n",
      "3.141592653589793\n",
      "9.42477796076938\n"
     ]
    }
   ],
   "source": [
    "import numpy as np\n",
    "print(np.random.randn(2,4))\n",
    "\n",
    "print(np.random.randn(3,2,3))\n",
    "print(np.maximum(2,2))\n",
    "\n",
    "print(np.zeros(10))\n",
    "print(np.pi)\n",
    "print(np.pi*3)\n",
    "#print(np.)"
   ]
  },
  {
   "cell_type": "code",
   "execution_count": null,
   "metadata": {},
   "outputs": [],
   "source": []
  }
 ],
 "metadata": {
  "kernelspec": {
   "display_name": "Python 3",
   "language": "python",
   "name": "python3"
  },
  "language_info": {
   "codemirror_mode": {
    "name": "ipython",
    "version": 3
   },
   "file_extension": ".py",
   "mimetype": "text/x-python",
   "name": "python",
   "nbconvert_exporter": "python",
   "pygments_lexer": "ipython3",
   "version": "3.7.4"
  }
 },
 "nbformat": 4,
 "nbformat_minor": 2
}
